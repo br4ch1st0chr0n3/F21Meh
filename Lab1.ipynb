{
 "cells": [
  {
   "cell_type": "markdown",
   "metadata": {},
   "source": [
    "# Lab 1"
   ]
  },
  {
   "cell_type": "markdown",
   "metadata": {},
   "source": [
    "## Task 1"
   ]
  },
  {
   "cell_type": "code",
   "execution_count": 52,
   "metadata": {},
   "outputs": [],
   "source": [
    "import numpy as np\n",
    "from scipy.integrate import odeint\n",
    "import matplotlib.pyplot as plt\n",
    "\n",
    "b = 0.4\n",
    "k = 4\n",
    "m = 0.1\n",
    "A = np.array([[0, 1], [-k / m, -b / m]])\n",
    "\n",
    "t0 = 0\n",
    "tf = 3\n",
    "increment = 0.01\n",
    "t = np.arange(t0, tf, increment)\n",
    "x0 = [2, 0]\n"
   ]
  },
  {
   "cell_type": "code",
   "execution_count": 53,
   "metadata": {},
   "outputs": [],
   "source": [
    "from types import SimpleNamespace\n"
   ]
  },
  {
   "cell_type": "code",
   "execution_count": 54,
   "metadata": {},
   "outputs": [],
   "source": [
    "def solve_spring_damper(y0=x0, t=t, b=b, k=k, m=m):\n",
    "    \"\"\"solver for spring-damper system\n",
    "\n",
    "    ----------\n",
    "    ### Parameters\n",
    "      `y0` : `np.array`\n",
    "          initial value\n",
    "      `t` : `np.array`\n",
    "          time coordinates\n",
    "      `args` : `[float, float, float]`\n",
    "          `b` - damping coefficient,\n",
    "          `k` - spring stiffness,\n",
    "          `m` - mass\n",
    "\n",
    "    -------\n",
    "    ### Returns\n",
    "      `np.array`\n",
    "          solution to the system\n",
    "    \"\"\"\n",
    "    A = np.array([[0, 1], [-k / m, -b / m]])\n",
    "\n",
    "    def state_space(y, t):\n",
    "        return np.dot(A, y)\n",
    "\n",
    "    return odeint(func=state_space, y0=y0, t=t)\n"
   ]
  },
  {
   "cell_type": "code",
   "execution_count": 55,
   "metadata": {},
   "outputs": [],
   "source": [
    "def solve_list(args):\n",
    "    \"\"\"solver for list of systems\n",
    "\n",
    "    ----------\n",
    "    ### Parameters\n",
    "      `args` : `[[solver, arguments]]`\n",
    "\n",
    "    -------\n",
    "    ### Returns\n",
    "      `[solutions]`\n",
    "\n",
    "\n",
    "    -------\n",
    "    ### Examples\n",
    "    >>> sol = solve_list([[solve_spring_damper,{}], [solve_spring_damper,{\"b\": 4}]])\n",
    "    \"\"\"\n",
    "    \n",
    "    # where to save results \n",
    "    res = [None for i in range(len(args))]\n",
    "    \n",
    "    # apply solvers to arguments\n",
    "    for i, (f, args) in enumerate(args):\n",
    "        res[i] = f(**args)\n",
    "        \n",
    "    return res\n"
   ]
  },
  {
   "cell_type": "code",
   "execution_count": 56,
   "metadata": {},
   "outputs": [],
   "source": [
    "def plot_sol(args):\n",
    "    \"\"\"plot separately list of systems\n",
    "\n",
    "    -------\n",
    "    ### Parameters\n",
    "      `args` : `[dict]`\n",
    "          `dict`\n",
    "              `x` : `np.array`\n",
    "              `y` : `np.array`\n",
    "              `xlabel` : `str`\n",
    "                  latex string\n",
    "              `ylabel` : `str`\n",
    "                  latex string\n",
    "              `label` : `str`\n",
    "                  latex string\n",
    "              `color` : `str`\n",
    "                  see [options](https://matplotlib.org/stable/gallery/color/named_colors.html)\n",
    "\n",
    "    -------\n",
    "    ### Returns\n",
    "      `None`\n",
    "\n",
    "    -------\n",
    "    ### Examples\n",
    "    >>> plot_sol([{'x': t, 'y' : x, 'color':'b', 'label':'x(t)', 'xlabel':'t', 'ylabel':'x'}])\n",
    "    \"\"\"\n",
    "\n",
    "    def plot(\n",
    "        ax=None, x=np.empty, y=np.empty, xlabel=None, ylabel=None, color=\"b\", label=None\n",
    "    ):\n",
    "        ax.grid()\n",
    "        # enable latex\n",
    "        ax.set(\n",
    "            xlabel=(f\"${xlabel}$\" if xlabel else None),\n",
    "            ylabel=(f\"${ylabel}$\" if ylabel else None),\n",
    "        )\n",
    "        ax.plot(x, y, color=color, label=(f\"${label}$\" if label else None))\n",
    "        \n",
    "        # there might be no label\n",
    "        if label:\n",
    "            ax.legend(loc=\"best\")\n",
    "\n",
    "    # plots will be aligned into a line\n",
    "    fig, ax = plt.subplots(1, len(args), figsize=(4 * len(args), 4))\n",
    "    \n",
    "    # convert to iterable \n",
    "    ax = np.array(ax).reshape(-1)\n",
    "    \n",
    "    # set padding between plots\n",
    "    fig.tight_layout(pad=4.0)\n",
    "\n",
    "    for i, arg in enumerate(args):\n",
    "        plot(ax[i], **arg)\n",
    "\n",
    "    plt.show()\n"
   ]
  },
  {
   "cell_type": "code",
   "execution_count": 57,
   "metadata": {},
   "outputs": [],
   "source": [
    "sol = solve_list([[solve_spring_damper, {}], [solve_spring_damper, {\"b\": 4}]])\n"
   ]
  },
  {
   "cell_type": "markdown",
   "metadata": {},
   "source": [
    "## Task 2"
   ]
  },
  {
   "cell_type": "code",
   "execution_count": 62,
   "metadata": {},
   "outputs": [
    {
     "data": {
      "image/png": "[encoded data removed]",
      "text/plain": [
       "<Figure size 576x288 with 2 Axes>"
      ]
     },
     "metadata": {
      "needs_background": "light"
     },
     "output_type": "display_data"
    }
   ],
   "source": [
    "plot_sol(\n",
    "    [\n",
    "        {\n",
    "            \"x\": t,\n",
    "            \"y\": sol[0][:, 0],\n",
    "            \"color\": \"b\",\n",
    "            \"label\": \"x(t)\",\n",
    "            \"xlabel\": \"t\",\n",
    "            \"ylabel\": \"x\",\n",
    "        },\n",
    "        {\n",
    "            \"x\": sol[0][:, 0],\n",
    "            \"y\": sol[0][:, 1],\n",
    "            \"color\": \"b\",\n",
    "            \"xlabel\": \"x\",\n",
    "            \"ylabel\": \"\\dot x\",\n",
    "            \"label\": \"\\dot x(x)\",\n",
    "        },\n",
    "    ]\n",
    ")\n"
   ]
  },
  {
   "cell_type": "markdown",
   "metadata": {},
   "source": [
    "## Task 3"
   ]
  },
  {
   "cell_type": "markdown",
   "metadata": {},
   "source": []
  },
  {
   "cell_type": "code",
   "execution_count": null,
   "metadata": {},
   "outputs": [],
   "source": []
  }
 ],
 "metadata": {
  "interpreter": {
   "hash": "2b163a0d298f6ed1f46d83d9ac60fc2c1b7d5765acd69375ba77f1aa2e28efcc"
  },
  "kernelspec": {
   "display_name": "Python 3.9.7 64-bit ('env': venv)",
   "name": "python3"
  },
  "language_info": {
   "codemirror_mode": {
    "name": "ipython",
    "version": 3
   },
   "file_extension": ".py",
   "mimetype": "text/x-python",
   "name": "python",
   "nbconvert_exporter": "python",
   "pygments_lexer": "ipython3",
   "version": "3.9.7"
  },
  "orig_nbformat": 4
 },
 "nbformat": 4,
 "nbformat_minor": 2
}
