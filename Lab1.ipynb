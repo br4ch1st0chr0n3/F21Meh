{
 "cells": [
  {
   "cell_type": "code",
   "execution_count": 1,
   "metadata": {},
   "outputs": [],
   "source": [
    "import numpy as np\n",
    "from scipy.integrate import odeint\n",
    "import matplotlib.pyplot as plt\n",
    "\n",
    "b = 0.4\n",
    "k = 4\n",
    "m = 0.1\n",
    "A = np.array([[0,1],[-k/m, -b/m]])\n",
    "\n",
    "t0=0\n",
    "tf=3\n",
    "increment = 0.01\n",
    "t=np.arange(t0,tf,increment)\n",
    "x0=[2,0]\n",
    "\n",
    "import typing\n",
    "from typing import List, Callable"
   ]
  },
  {
   "cell_type": "code",
   "execution_count": null,
   "metadata": {},
   "outputs": [],
   "source": [
    "def solve_spring_damper(y0 : np.array, t : np.array, args : List[float]) -> np.array:\n",
    "  \"\"\"solver for spring-damper system\"\"\"\n",
    "  \n",
    "  b, k, m = args\n",
    "  \n",
    "  A = np.array([[0,1],[-k/m, -b/m]])\n",
    "  \n",
    "  def state_space(y, t):\n",
    "    return np.dot(A, y)\n",
    "  \n",
    "  return odeint(func=state_space, y0=y0, t=t)"
   ]
  },
  {
   "cell_type": "code",
   "execution_count": null,
   "metadata": {},
   "outputs": [],
   "source": [
    "def solve(args: List[Callable, dict]):\n",
    "  res = [None for i in range(len(l))]\n",
    "  for i, (f, args) in enumerate(l):\n",
    "    res[i] = f(**args)\n",
    "  return res\n",
    "\n",
    "def plot_sol(args : list(dict())):\n",
    "  \"\"\"[arg] -> grid (plot arg)\"\"\"\n",
    "  \n",
    "  fig, ax = plt.subplots(1, len(args), figsize=(5*len(args), 5))\n",
    "  ax = np.array(ax).reshape(-1)\n",
    "  fig.tight_layout(pad=3.0)\n",
    "\n",
    "  for i in range(len(xy)):\n",
    "    x,y = xy[i]\n",
    "    ax[i].grid()\n",
    "    ax[i].set(xlabel=x_label, ylabel = y_label)\n",
    "    ax[i].plot(x, y, color=color[i], label=label[i])\n",
    "    ax[i].legend(loc = 'best')\n",
    "  \n",
    "  plt.show()"
   ]
  },
  {
   "cell_type": "code",
   "execution_count": null,
   "metadata": {},
   "outputs": [],
   "source": [
    "sol = solve([[solve_spring_damper,{}], [solve_spring_damper,{\"b\":4}]])"
   ]
  },
  {
   "cell_type": "code",
   "execution_count": null,
   "metadata": {},
   "outputs": [],
   "source": [
    "plot_sol(xy = [[t,sol[0][:,0]]], color=['b'], label=['x(t)'], x_label='t', y_label='x')"
   ]
  },
  {
   "cell_type": "code",
   "execution_count": null,
   "metadata": {},
   "outputs": [],
   "source": [
    "plot_sol(\n",
    "    x = [sol[0][:,0], sol[1][:,0]], \n",
    "    y = [sol[0][:,1], sol[1][:,1]], \n",
    "    color=['b', 'g'], \n",
    "    label=[f\"$b={b}$\", f\"$b={4}$\"], \n",
    "    x_label=\"$x(t)$\", \n",
    "    y_label=\"$\\dot x(t)$\"\n",
    "    )\n",
    "\n",
    "sol = pend_param(x0 = x0, t = t, b = 0, k = k, m = m)"
   ]
  }
 ],
 "metadata": {
  "interpreter": {
   "hash": "2b163a0d298f6ed1f46d83d9ac60fc2c1b7d5765acd69375ba77f1aa2e28efcc"
  },
  "kernelspec": {
   "display_name": "Python 3.9.7 64-bit ('env': venv)",
   "name": "python3"
  },
  "language_info": {
   "codemirror_mode": {
    "name": "ipython",
    "version": 3
   },
   "file_extension": ".py",
   "mimetype": "text/x-python",
   "name": "python",
   "nbconvert_exporter": "python",
   "pygments_lexer": "ipython3",
   "version": "3.9.7"
  },
  "orig_nbformat": 4
 },
 "nbformat": 4,
 "nbformat_minor": 2
}
