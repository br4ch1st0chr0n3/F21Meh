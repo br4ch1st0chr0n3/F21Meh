{
 "cells": [
  {
   "cell_type": "markdown",
   "metadata": {},
   "source": [
    "# Lab 3\n",
    "Danila Danko, Evgeny Panov"
   ]
  },
  {
   "cell_type": "markdown",
   "metadata": {},
   "source": [
    "## 1. Motor simulation"
   ]
  },
  {
   "cell_type": "markdown",
   "metadata": {},
   "source": [
    "### 1.1"
   ]
  },
  {
   "cell_type": "code",
   "execution_count": 457,
   "metadata": {},
   "outputs": [],
   "source": [
    "import numpy as np\n",
    "from scipy.integrate import solve_ivp"
   ]
  },
  {
   "cell_type": "code",
   "execution_count": 458,
   "metadata": {},
   "outputs": [],
   "source": [
    "milli = 10 ** (-3)\n",
    "kilo = 1 / milli\n",
    "centi = 10 ** (-2)\n",
    "rps = 2*np.pi/60\n",
    "# value from sheet : SI value\n",
    "mdata = {\n",
    "    \"nominal voltage, V\": 12,\n",
    "    \"no load speed, rpm\": 12100 * rps,\n",
    "    \"no load current, mA\": 155 * milli,\n",
    "    \"nominal speed, rpm\": 8040 * rps,\n",
    "    \"nominal torque, mNm\": 10.2 * milli,\n",
    "    \"nominal current, A\": 1.25,\n",
    "    \"stall torque, mNm\": 31.3 * milli,\n",
    "    \"stall current, A\": 3.47,\n",
    "    \"max. efficiency, %\": 64 * centi,\n",
    "    \"terminal resistance, omega\": 3.46,\n",
    "    \"terminal inductance, mH\": 0.121 * milli,\n",
    "    \"torque constant, mNm/A\": 9.02 * milli,\n",
    "    \"speed constant, rpm/V\": 1 / (1060 * rps),\n",
    "    \"speed/torque gradient, rpm/mNm\": 406 * rps / milli,\n",
    "    \"mechanical time constant, ms\": 9.56 * milli,\n",
    "    \"rotor inertia, g*cm^2\": 2.25 * milli * centi ** 2,\n",
    "}"
   ]
  },
  {
   "cell_type": "code",
   "execution_count": 459,
   "metadata": {},
   "outputs": [],
   "source": [
    "L = mdata[\"terminal inductance, mH\"]\n",
    "V = mdata[\"nominal voltage, V\"]\n",
    "K_b = mdata[\"speed constant, rpm/V\"]\n",
    "R = mdata[\"terminal resistance, omega\"]\n",
    "K_m = mdata[\"torque constant, mNm/A\"]\n",
    "J = mdata[\"rotor inertia, g*cm^2\"]\n",
    "tau_l = 0\n",
    "B_m = 0"
   ]
  },
  {
   "cell_type": "code",
   "execution_count": 460,
   "metadata": {},
   "outputs": [],
   "source": [
    "t1 = np.arange(\n",
    "    start = 0, \n",
    "    stop = 100 * milli,\n",
    "    step = 1 * milli * milli\n",
    ")"
   ]
  },
  {
   "cell_type": "code",
   "execution_count": 461,
   "metadata": {},
   "outputs": [],
   "source": [
    "x0 = [0, 0, 0]"
   ]
  },
  {
   "cell_type": "code",
   "execution_count": 462,
   "metadata": {},
   "outputs": [],
   "source": [
    "def solve_motor(\n",
    "    y0=x0, t_eval=t1, L=L, V=V, K_b=K_b, R=R, J=J, K_m=K_m, tau_l=tau_l, B_m=B_m\n",
    "):\n",
    "    \"\"\"solver for motor system\n",
    "\n",
    "    ----------\n",
    "    ### Parameters\n",
    "      `y0` : `np.array`\n",
    "          initial values\n",
    "      `t_eval` : `np.array`\n",
    "          time coordinates\n",
    "      `args` : `[float]`\n",
    "          `L` - terminal inductance\n",
    "          `V` - nominal voltage\n",
    "          `K_b` - speed constant\n",
    "          `R` - terminal resistance\n",
    "          `J` - rotor inertia\n",
    "          `K_m` - torque constant\n",
    "          `tau_l` - load torque\n",
    "          `B_m` - friction coefficient\n",
    "\n",
    "\n",
    "    -------\n",
    "    ### Returns\n",
    "      `np.array`\n",
    "          solution to the system\n",
    "    \"\"\"\n",
    "    B = np.array([V / L, 0, -tau_l / J])\n",
    "    A = np.array([[-R / L, 0, -K_b / L], [0, 0, 1], [K_m / J, 0, -B_m / J]])\n",
    "    \n",
    "    def state_space(t, y):\n",
    "        return A.dot(y) + B\n",
    "\n",
    "    t_span = (t_eval[0], t_eval[-1])\n",
    "    return solve_ivp(fun=state_space, y0=y0, t_span=t_span, t_eval=t_eval)\n"
   ]
  },
  {
   "cell_type": "code",
   "execution_count": 463,
   "metadata": {},
   "outputs": [],
   "source": [
    "from utils import solve_list, plot_sol"
   ]
  },
  {
   "cell_type": "code",
   "execution_count": 464,
   "metadata": {},
   "outputs": [],
   "source": [
    "sol = solve_list([[solve_motor,{\"t_eval\": t1}]])[0]"
   ]
  },
  {
   "cell_type": "code",
   "execution_count": 465,
   "metadata": {},
   "outputs": [
    {
     "data": {
      "image/png": "[encoded data removed]",
      "text/plain": [
       "<Figure size 864x432 with 2 Axes>"
      ]
     },
     "metadata": {
      "needs_background": "light"
     },
     "output_type": "display_data"
    }
   ],
   "source": [
    "plot_sol(\n",
    "    [\n",
    "        {\n",
    "            \"xlabel\": \"t (s)\",\n",
    "            \"ylabel\": \"Angle $\\\\theta_m$ (rad)\",\n",
    "            \"x\": sol.t,\n",
    "            \"graphs\": [\n",
    "                {\"y\": sol.y[1], \"color\": \"r\"},\n",
    "            ],\n",
    "        },\n",
    "        {\n",
    "            \"xlabel\": \"t (s)\",\n",
    "            \"ylabel\": \"Angular velocity $\\\\dot \\\\theta_m$ ($\\\\dfrac{rad}{s}$)\",\n",
    "            \"x\": sol.t,\n",
    "            \"graphs\": [\n",
    "                {\"y\": sol.y[2], \"color\": \"g\"},\n",
    "            ],\n",
    "        },\n",
    "    ]\n",
    ")"
   ]
  },
  {
   "cell_type": "markdown",
   "metadata": {},
   "source": [
    "### 1.2"
   ]
  },
  {
   "cell_type": "code",
   "execution_count": 466,
   "metadata": {},
   "outputs": [
    {
     "name": "stdout",
     "output_type": "stream",
     "text": [
      "No load speed (rpm):\n",
      " simulated: 12719.640010713814 \n",
      " theoretical: 12100.0\n"
     ]
    }
   ],
   "source": [
    "theta_dot = sol.y[2]\n",
    "theta_dot_nl = theta_dot[-1]\n",
    "print(f\"No load speed (rpm):\\n simulated: {theta_dot_nl / rps} \\n theoretical: {mdata['no load speed, rpm'] / rps}\")"
   ]
  },
  {
   "cell_type": "code",
   "execution_count": 467,
   "metadata": {},
   "outputs": [],
   "source": [
    "bound = 0.632 * np.abs(theta_dot_nl)\n",
    "t_m_measured = sol.t[np.abs(theta_dot) <= bound][-1]"
   ]
  },
  {
   "cell_type": "code",
   "execution_count": 468,
   "metadata": {},
   "outputs": [
    {
     "name": "stdout",
     "output_type": "stream",
     "text": [
      "Time constant (ms):\n",
      " simulated: 9.5760000 \n",
      " theoretical: 9.5600000\n"
     ]
    }
   ],
   "source": [
    "print(f\"Time constant (ms):\\n simulated: {t_m_measured / milli:0.7f} \\n theoretical: {mdata['mechanical time constant, ms'] / milli:0.7f}\")"
   ]
  },
  {
   "cell_type": "markdown",
   "metadata": {},
   "source": [
    "## 2. PD control"
   ]
  },
  {
   "cell_type": "markdown",
   "metadata": {},
   "source": [
    "### 2.1"
   ]
  },
  {
   "cell_type": "code",
   "execution_count": 469,
   "metadata": {},
   "outputs": [],
   "source": [
    "K_p=100\n",
    "K_d=1\n",
    "theta_d=100\n",
    "theta_dot_d=0"
   ]
  },
  {
   "cell_type": "code",
   "execution_count": 470,
   "metadata": {},
   "outputs": [],
   "source": [
    "voltage = []\n",
    "\n",
    "def solve_motor_pd(\n",
    "    y0=x0,\n",
    "    t_eval=t1,\n",
    "    L=L,\n",
    "    V=V,\n",
    "    K_b=K_b,\n",
    "    R=R,\n",
    "    J=J,\n",
    "    K_m=K_m,\n",
    "    tau_l=tau_l,\n",
    "    B_m=B_m,\n",
    "    K_p=K_p,\n",
    "    K_d=K_d,\n",
    "    theta_d=theta_d,\n",
    "    theta_dot_d=theta_dot_d,\n",
    "):\n",
    "    \"\"\"solver for motor system\n",
    "\n",
    "    ----------\n",
    "    ### Parameters\n",
    "      `y0` : `np.array`\n",
    "          initial values\n",
    "      `t_eval` : `np.array`\n",
    "          time coordinates\n",
    "      `args` : `[float]`\n",
    "          `L` - terminal inductance\n",
    "          `V` - nominal voltage\n",
    "          `K_b` - speed constant\n",
    "          `R` - terminal resistance\n",
    "          `J` - rotor inertia\n",
    "          `K_m` - torque constant\n",
    "          `tau_l` - load torque\n",
    "          `B_m` - friction coefficient\n",
    "          `K_p` - proportional constant\n",
    "          `K_d` - derivative constant\n",
    "          `theta_d` - desired angle\n",
    "          `theta_dot_d` - desired speed\n",
    "\n",
    "    -------\n",
    "    ### Returns\n",
    "      `np.array`\n",
    "          solution to the system\n",
    "    \"\"\"\n",
    "    B = np.array([V / L, 0, -tau_l / J])\n",
    "    A = np.array([[-R / L, 0, -K_b / L], [0, 0, 1], [K_m / J, 0, -B_m / J]])\n",
    "    K = np.array([K_p, K_d])\n",
    "    x_d = np.array([theta_d, theta_dot_d])\n",
    "\n",
    "    def state_space(t, y):\n",
    "        e = x_d - y[1:]\n",
    "        u = K.dot(e)\n",
    "        global voltage\n",
    "        voltage += [[t, B.dot(u)[0] * L]]\n",
    "        return A.dot(y) + B.dot(u)\n",
    "\n",
    "    t_span = (t_eval[0], t_eval[-1])\n",
    "    return solve_ivp(fun=state_space, y0=y0, t_span=t_span, t_eval=t_eval)\n"
   ]
  },
  {
   "cell_type": "code",
   "execution_count": 471,
   "metadata": {},
   "outputs": [],
   "source": [
    "sol = solve_list([[solve_motor_pd,{\"t_eval\": t1}]])[0]"
   ]
  },
  {
   "cell_type": "code",
   "execution_count": 472,
   "metadata": {},
   "outputs": [
    {
     "data": {
      "image/png": "[encoded data removed]",
      "text/plain": [
       "<Figure size 864x432 with 2 Axes>"
      ]
     },
     "metadata": {
      "needs_background": "light"
     },
     "output_type": "display_data"
    }
   ],
   "source": [
    "plot_sol(\n",
    "    [\n",
    "        {\n",
    "            \"xlabel\": \"t (s)\",\n",
    "            \"ylabel\": \"Angle $\\\\theta_m$ (rad)\",\n",
    "            \"x\": sol.t,\n",
    "            \"graphs\": [\n",
    "                {\"y\": sol.y[1], \"color\": \"r\"},\n",
    "            ],\n",
    "        },\n",
    "        {\n",
    "            \"xlabel\": \"t (s)\",\n",
    "            \"ylabel\": \"Angular velocity $\\\\dot \\\\theta_m$ ($\\\\dfrac{rad}{s}$)\",\n",
    "            \"x\": sol.t,\n",
    "            \"graphs\": [\n",
    "                {\"y\": sol.y[2], \"color\": \"g\"},\n",
    "            ],\n",
    "        },\n",
    "    ]\n",
    ")"
   ]
  },
  {
   "cell_type": "markdown",
   "metadata": {},
   "source": [
    "### 2.2"
   ]
  },
  {
   "cell_type": "code",
   "execution_count": 473,
   "metadata": {},
   "outputs": [],
   "source": [
    "err_corridor = 2 * centi\n",
    "\n",
    "def get_metrics(theta, theta_dot):\n",
    "    bound = err_corridor * theta_d\n",
    "    t_settling = theta[np.abs(theta - theta_d) >= bound][-1]\n",
    "\n",
    "    overs = theta[theta - theta_d >= 0.]\n",
    "    overshoot = 0. if len(overs) == 0 else (np.amax(overs) - theta_d) / theta_d\n",
    "    overshoot /= centi\n",
    "\n",
    "    ss_error = np.abs(theta_d - theta[-1])\n",
    "\n",
    "    max_speed = np.amax(theta_dot)\n",
    "\n",
    "    return t_settling, overshoot, ss_error, max_speed"
   ]
  },
  {
   "cell_type": "code",
   "execution_count": 474,
   "metadata": {},
   "outputs": [],
   "source": [
    "t_settling, overshoot, ss_error, max_speed = get_metrics(sol.y[1], sol.y[2])"
   ]
  },
  {
   "cell_type": "code",
   "execution_count": 475,
   "metadata": {},
   "outputs": [
    {
     "name": "stdout",
     "output_type": "stream",
     "text": [
      "Settling time (ms): 97999.85881282107\n",
      "Overshoot (%): 0.0\n",
      "Steady-state error (rad): 0.004544784066311536\n",
      "Max speed (rpm): 141143.3169200812\n"
     ]
    }
   ],
   "source": [
    "print(f\"Settling time (ms): {t_settling / milli}\")\n",
    "print(f\"Overshoot (%): {overshoot}\")\n",
    "print(f\"Steady-state error (rad): {ss_error}\")\n",
    "print(f\"Max speed (rpm): {max_speed / rps}\")"
   ]
  },
  {
   "cell_type": "markdown",
   "metadata": {},
   "source": [
    "### 2.3"
   ]
  },
  {
   "cell_type": "code",
   "execution_count": 476,
   "metadata": {},
   "outputs": [],
   "source": [
    "voltage = np.array(voltage).T"
   ]
  },
  {
   "cell_type": "code",
   "execution_count": 477,
   "metadata": {},
   "outputs": [
    {
     "data": {
      "image/png": "[encoded data removed]",
      "text/plain": [
       "<Figure size 432x432 with 1 Axes>"
      ]
     },
     "metadata": {
      "needs_background": "light"
     },
     "output_type": "display_data"
    }
   ],
   "source": [
    "plot_sol(\n",
    "    [\n",
    "        {\n",
    "            \"xlabel\": \"t (s)\",\n",
    "            \"ylabel\": \"Controller voltage (V)\",\n",
    "            \"x\": voltage[0],\n",
    "            \"graphs\": [\n",
    "                {\"y\": voltage[1], \"color\": \"r\"},\n",
    "            ],\n",
    "        },\n",
    "    ]\n",
    ")"
   ]
  },
  {
   "cell_type": "markdown",
   "metadata": {},
   "source": [
    "### 2.4"
   ]
  },
  {
   "cell_type": "code",
   "execution_count": 478,
   "metadata": {},
   "outputs": [],
   "source": [
    "def solve_motor_pd_saturated(\n",
    "    y0=x0,\n",
    "    t_eval=t1,\n",
    "    L=L,\n",
    "    V=V,\n",
    "    K_b=K_b,\n",
    "    R=R,\n",
    "    J=J,\n",
    "    K_m=K_m,\n",
    "    tau_l=tau_l,\n",
    "    B_m=B_m,\n",
    "    K_p=K_p,\n",
    "    K_d=K_d,\n",
    "    theta_d=theta_d,\n",
    "    theta_dot_d=theta_dot_d,\n",
    "):\n",
    "    \"\"\"solver for motor system\n",
    "\n",
    "    ----------\n",
    "    ### Parameters\n",
    "      `y0` : `np.array`\n",
    "          initial values\n",
    "      `t_eval` : `np.array`\n",
    "          time coordinates\n",
    "      `args` : `[float]`\n",
    "          `L` - terminal inductance\n",
    "          `V` - nominal voltage\n",
    "          `K_b` - speed constant\n",
    "          `R` - terminal resistance\n",
    "          `J` - rotor inertia\n",
    "          `K_m` - torque constant\n",
    "          `tau_l` - load torque\n",
    "          `B_m` - friction coefficient\n",
    "          `K_p` - proportional constant\n",
    "          `K_d` - derivative constant\n",
    "          `theta_d` - desired angle\n",
    "          `theta_dot_d` - desired speed\n",
    "\n",
    "    -------\n",
    "    ### Returns\n",
    "      `np.array`\n",
    "          solution to the system\n",
    "    \"\"\"\n",
    "    B = np.array([V / L, 0, -tau_l / J])\n",
    "    A = np.array([[-R / L, 0, -K_b / L], [0, 0, 1], [K_m / J, 0, -B_m / J]])\n",
    "    K = np.array([K_p, K_d])\n",
    "    x_d = np.array([theta_d, theta_dot_d])\n",
    "\n",
    "    def state_space(t, y):\n",
    "        e = x_d - y[1:]\n",
    "        u = K.dot(e)\n",
    "        u = np.sign(u) * min(np.abs(u)/L, 1)\n",
    "        return A.dot(y) + B.dot(u)\n",
    "\n",
    "    t_span = (t_eval[0], t_eval[-1])\n",
    "    return solve_ivp(fun=state_space, y0=y0, t_span=t_span, t_eval=t_eval)\n"
   ]
  },
  {
   "cell_type": "code",
   "execution_count": 479,
   "metadata": {},
   "outputs": [],
   "source": [
    "sol = solve_list([[solve_motor_pd_saturated,{\"t_eval\": t1}]])[0]"
   ]
  },
  {
   "cell_type": "code",
   "execution_count": 480,
   "metadata": {},
   "outputs": [
    {
     "data": {
      "image/png": "[encoded data removed]",
      "text/plain": [
       "<Figure size 864x432 with 2 Axes>"
      ]
     },
     "metadata": {
      "needs_background": "light"
     },
     "output_type": "display_data"
    }
   ],
   "source": [
    "plot_sol(\n",
    "    [\n",
    "        {\n",
    "            \"xlabel\": \"t (s)\",\n",
    "            \"ylabel\": \"Angle $\\\\theta_m$ (rad)\",\n",
    "            \"x\": sol.t,\n",
    "            \"graphs\": [\n",
    "                {\"y\": sol.y[1], \"color\": \"r\"},\n",
    "            ],\n",
    "        },\n",
    "        {\n",
    "            \"xlabel\": \"t (s)\",\n",
    "            \"ylabel\": \"Angular velocity $\\\\dot \\\\theta_m$ ($\\\\dfrac{rad}{s}$)\",\n",
    "            \"x\": sol.t,\n",
    "            \"graphs\": [\n",
    "                {\"y\": sol.y[2], \"color\": \"g\"},\n",
    "            ],\n",
    "        },\n",
    "    ]\n",
    ")"
   ]
  },
  {
   "cell_type": "code",
   "execution_count": 481,
   "metadata": {},
   "outputs": [],
   "source": [
    "t_settling, overshoot, ss_error, max_speed = get_metrics(sol.y[1], sol.y[2])"
   ]
  },
  {
   "cell_type": "code",
   "execution_count": 482,
   "metadata": {},
   "outputs": [
    {
     "name": "stdout",
     "output_type": "stream",
     "text": [
      "Settling time (ms): 97999.96397838328\n",
      "Overshoot (%): 0.0\n",
      "Steady-state error (rad): 1.0558702959294664\n",
      "Max speed (rpm): 12714.876951627228\n"
     ]
    }
   ],
   "source": [
    "print(f\"Settling time (ms): {t_settling / milli}\")\n",
    "print(f\"Overshoot (%): {overshoot}\")\n",
    "print(f\"Steady-state error (rad): {ss_error}\")\n",
    "print(f\"Max speed (rpm): {max_speed / rps}\")"
   ]
  },
  {
   "cell_type": "markdown",
   "metadata": {},
   "source": [
    "## 3. Current-controlled motor"
   ]
  },
  {
   "cell_type": "markdown",
   "metadata": {},
   "source": [
    "### 3.1"
   ]
  },
  {
   "cell_type": "code",
   "execution_count": 483,
   "metadata": {},
   "outputs": [],
   "source": [
    "x0 = np.array([0,0])"
   ]
  },
  {
   "cell_type": "code",
   "execution_count": 484,
   "metadata": {},
   "outputs": [],
   "source": [
    "def solve_motor_current_control(\n",
    "    y0=x0,\n",
    "    t_eval=t1,\n",
    "    J=J,\n",
    "    K_m=K_m,\n",
    "    B_m=B_m,\n",
    "    K_p=K_p,\n",
    "    K_d=K_d,\n",
    "    theta_d=theta_d,\n",
    "    theta_dot_d=theta_dot_d,\n",
    "):\n",
    "    \"\"\"solver for motor system\n",
    "\n",
    "    ----------\n",
    "    ### Parameters\n",
    "      `y0` : `np.array`\n",
    "          initial values\n",
    "      `t_eval` : `np.array`\n",
    "          time coordinates\n",
    "      `args` : `[float]`\n",
    "          `J` - rotor inertia\n",
    "          `K_m` - torque constant\n",
    "          `B_m` - friction coefficient\n",
    "          `K_p` - proportional constant\n",
    "          `K_d` - derivative constant\n",
    "          `theta_d` - desired angle\n",
    "          `theta_dot_d` - desired speed\n",
    "\n",
    "    -------\n",
    "    ### Returns\n",
    "      `np.array`\n",
    "          solution to the system\n",
    "    \"\"\"\n",
    "    K = np.array([K_p, K_d])\n",
    "    x_d = np.array([theta_d, theta_dot_d])\n",
    "\n",
    "    def state_space(t, y):\n",
    "        e = x_d - y\n",
    "        u = K.dot(e)\n",
    "        return np.array([y[1], 1/J * (K_m * u - B_m * y[1])])\n",
    "\n",
    "    t_span = (t_eval[0], t_eval[-1])\n",
    "    return solve_ivp(fun=state_space, y0=y0, t_span=t_span, t_eval=t_eval)\n"
   ]
  },
  {
   "cell_type": "code",
   "execution_count": 485,
   "metadata": {},
   "outputs": [],
   "source": [
    "sol = solve_list([[solve_motor_current_control,{\"t_eval\": t1}]])[0]"
   ]
  },
  {
   "cell_type": "code",
   "execution_count": 486,
   "metadata": {},
   "outputs": [
    {
     "data": {
      "image/png": "[encoded data removed]",
      "text/plain": [
       "<Figure size 864x432 with 2 Axes>"
      ]
     },
     "metadata": {
      "needs_background": "light"
     },
     "output_type": "display_data"
    }
   ],
   "source": [
    "plot_sol(\n",
    "    [\n",
    "        {\n",
    "            \"xlabel\": \"t (s)\",\n",
    "            \"ylabel\": \"Angle $\\\\theta_m$ (rad)\",\n",
    "            \"x\": sol.t,\n",
    "            \"graphs\": [\n",
    "                {\"y\": sol.y[0], \"color\": \"r\"},\n",
    "            ],\n",
    "        },\n",
    "        {\n",
    "            \"xlabel\": \"t (s)\",\n",
    "            \"ylabel\": \"Angular velocity $\\\\dot \\\\theta_m$ ($\\\\dfrac{rad}{s}$)\",\n",
    "            \"x\": sol.t,\n",
    "            \"graphs\": [\n",
    "                {\"y\": sol.y[1], \"color\": \"g\"},\n",
    "            ],\n",
    "        },\n",
    "    ]\n",
    ")"
   ]
  },
  {
   "cell_type": "code",
   "execution_count": 487,
   "metadata": {},
   "outputs": [],
   "source": [
    "t_settling, overshoot, ss_error, max_speed = get_metrics(sol.y[0], sol.y[1])"
   ]
  },
  {
   "cell_type": "code",
   "execution_count": 488,
   "metadata": {},
   "outputs": [
    {
     "name": "stdout",
     "output_type": "stream",
     "text": [
      "Settling time (ms): 97999.90775344157\n",
      "Overshoot (%): 0.0\n",
      "Steady-state error (rad): 0.0044387150953042465\n",
      "Max speed (rpm): 94308.82693343573\n"
     ]
    }
   ],
   "source": [
    "print(f\"Settling time (ms): {t_settling / milli}\")\n",
    "print(f\"Overshoot (%): {overshoot}\")\n",
    "print(f\"Steady-state error (rad): {ss_error}\")\n",
    "print(f\"Max speed (rpm): {max_speed / rps}\")"
   ]
  },
  {
   "cell_type": "markdown",
   "metadata": {},
   "source": [
    "### 3.2"
   ]
  },
  {
   "cell_type": "code",
   "execution_count": 489,
   "metadata": {},
   "outputs": [],
   "source": [
    "x0 = np.array([0,0])"
   ]
  },
  {
   "cell_type": "code",
   "execution_count": 490,
   "metadata": {},
   "outputs": [],
   "source": [
    "def solve_motor_current_control(\n",
    "    y0=x0,\n",
    "    t_eval=t1,\n",
    "    J=J,\n",
    "    K_m=K_m,\n",
    "    B_m=B_m,\n",
    "    K_p=K_p,\n",
    "    K_d=K_d,\n",
    "    theta_d=theta_d,\n",
    "    theta_dot_d=theta_dot_d,\n",
    "):\n",
    "    \"\"\"solver for current-controlled motor system\n",
    "\n",
    "    ----------\n",
    "    ### Parameters\n",
    "      `y0` : `np.array`\n",
    "          initial values\n",
    "      `t_eval` : `np.array`\n",
    "          time coordinates\n",
    "      `args` : `[float]`\n",
    "          `J` - rotor inertia\n",
    "          `K_m` - torque constant\n",
    "          `B_m` - friction coefficient\n",
    "          `K_p` - proportional constant\n",
    "          `K_d` - derivative constant\n",
    "          `theta_d` - desired angle\n",
    "          `theta_dot_d` - desired speed\n",
    "\n",
    "    -------\n",
    "    ### Returns\n",
    "      `np.array`\n",
    "          solution to the system\n",
    "    \"\"\"\n",
    "    K = np.array([K_p, K_d])\n",
    "    x_d = np.array([theta_d, theta_dot_d])\n",
    "    stall_current = mdata[\"stall current, A\"]\n",
    "\n",
    "    def state_space(t, y):\n",
    "        e = x_d - y\n",
    "        u = K.dot(e)\n",
    "        u = np.sign(u) * min(np.abs(u), stall_current)\n",
    "        return np.array([y[1], 1/J * (K_m * u - B_m * y[1])])\n",
    "\n",
    "    t_span = (t_eval[0], t_eval[-1])\n",
    "    return solve_ivp(fun=state_space, y0=y0, t_span=t_span, t_eval=t_eval)\n"
   ]
  },
  {
   "cell_type": "code",
   "execution_count": 491,
   "metadata": {},
   "outputs": [],
   "source": [
    "sol = solve_list([[solve_motor_current_control,{\"t_eval\": t1}]])[0]"
   ]
  },
  {
   "cell_type": "code",
   "execution_count": 492,
   "metadata": {},
   "outputs": [
    {
     "data": {
      "image/png": "[encoded data removed]",
      "text/plain": [
       "<Figure size 864x432 with 2 Axes>"
      ]
     },
     "metadata": {
      "needs_background": "light"
     },
     "output_type": "display_data"
    }
   ],
   "source": [
    "plot_sol(\n",
    "    [\n",
    "        {\n",
    "            \"xlabel\": \"t (s)\",\n",
    "            \"ylabel\": \"Angle $\\\\theta_m$ (rad)\",\n",
    "            \"x\": sol.t,\n",
    "            \"graphs\": [\n",
    "                {\"y\": sol.y[0], \"color\": \"r\"},\n",
    "            ],\n",
    "        },\n",
    "        {\n",
    "            \"xlabel\": \"t (s)\",\n",
    "            \"ylabel\": \"Angular velocity $\\\\dot \\\\theta_m$ ($\\\\dfrac{rad}{s}$)\",\n",
    "            \"x\": sol.t,\n",
    "            \"graphs\": [\n",
    "                {\"y\": sol.y[1], \"color\": \"g\"},\n",
    "            ],\n",
    "        },\n",
    "    ]\n",
    ")"
   ]
  },
  {
   "cell_type": "code",
   "execution_count": 493,
   "metadata": {},
   "outputs": [],
   "source": [
    "t_settling, overshoot, ss_error, max_speed = get_metrics(sol.y[0], sol.y[1])"
   ]
  },
  {
   "cell_type": "code",
   "execution_count": 494,
   "metadata": {},
   "outputs": [
    {
     "name": "stdout",
     "output_type": "stream",
     "text": [
      "Settling time (ms): 102000.07357979978\n",
      "Overshoot (%): 18.037399265311635\n",
      "Steady-state error (rad): 0.4469295444462347\n",
      "Max speed (rpm): 38295.994312801005\n"
     ]
    }
   ],
   "source": [
    "print(f\"Settling time (ms): {t_settling / milli}\")\n",
    "print(f\"Overshoot (%): {overshoot}\")\n",
    "print(f\"Steady-state error (rad): {ss_error}\")\n",
    "print(f\"Max speed (rpm): {max_speed / rps}\")"
   ]
  },
  {
   "cell_type": "markdown",
   "metadata": {},
   "source": [
    "### 3.3"
   ]
  },
  {
   "cell_type": "code",
   "execution_count": 495,
   "metadata": {},
   "outputs": [],
   "source": [
    "x0 = np.array([0,0])"
   ]
  },
  {
   "cell_type": "code",
   "execution_count": 496,
   "metadata": {},
   "outputs": [],
   "source": [
    "def solve_motor_current_control(\n",
    "    y0=x0,\n",
    "    t_eval=t1,\n",
    "    J=J,\n",
    "    K_m=K_m,\n",
    "    B_m=B_m,\n",
    "    K_p=K_p,\n",
    "    K_d=K_d,\n",
    "    theta_d=theta_d,\n",
    "    theta_dot_d=theta_dot_d,\n",
    "):\n",
    "    \"\"\"solver for motor system\n",
    "\n",
    "    ----------\n",
    "    ### Parameters\n",
    "      `y0` : `np.array`\n",
    "          initial values\n",
    "      `t_eval` : `np.array`\n",
    "          time coordinates\n",
    "      `args` : `[float]`\n",
    "          `K_m` - torque constant\n",
    "          `B_m` - friction coefficient\n",
    "          `K_p` - proportional constant\n",
    "          `K_d` - derivative constant\n",
    "          `theta_d` - desired angle\n",
    "          `theta_dot_d` - desired speed\n",
    "          \n",
    "\n",
    "    -------\n",
    "    ### Returns\n",
    "      `np.array`\n",
    "          solution to the system\n",
    "    \"\"\"\n",
    "    K = np.array([K_p, K_d * 1.4])\n",
    "    x_d = np.array([theta_d, theta_dot_d])\n",
    "    stall_current = mdata[\"stall current, A\"]\n",
    "\n",
    "    def state_space(t, y):\n",
    "        e = x_d - y\n",
    "        u = K.dot(e)\n",
    "        u = np.sign(u) * min(np.abs(u), stall_current)\n",
    "        return np.array([y[1], 1/J * (K_m * u - B_m * y[1])])\n",
    "\n",
    "    t_span = (t_eval[0], t_eval[-1])\n",
    "    return solve_ivp(fun=state_space, y0=y0, t_span=t_span, t_eval=t_eval)\n"
   ]
  },
  {
   "cell_type": "code",
   "execution_count": 497,
   "metadata": {},
   "outputs": [],
   "source": [
    "sol = solve_list([[solve_motor_current_control,{\"t_eval\": t1}]])[0]"
   ]
  },
  {
   "cell_type": "code",
   "execution_count": 498,
   "metadata": {},
   "outputs": [
    {
     "data": {
      "image/png": "[encoded data removed]",
      "text/plain": [
       "<Figure size 864x432 with 2 Axes>"
      ]
     },
     "metadata": {
      "needs_background": "light"
     },
     "output_type": "display_data"
    }
   ],
   "source": [
    "plot_sol(\n",
    "    [\n",
    "        {\n",
    "            \"xlabel\": \"t (s)\",\n",
    "            \"ylabel\": \"Angle $\\\\theta_m$ (rad)\",\n",
    "            \"x\": sol.t,\n",
    "            \"graphs\": [\n",
    "                {\"y\": sol.y[0], \"color\": \"r\"},\n",
    "            ],\n",
    "        },\n",
    "        {\n",
    "            \"xlabel\": \"t (s)\",\n",
    "            \"ylabel\": \"Angular velocity $\\\\dot \\\\theta_m$ ($\\\\dfrac{rad}{s}$)\",\n",
    "            \"x\": sol.t,\n",
    "            \"graphs\": [\n",
    "                {\"y\": sol.y[1], \"color\": \"g\"},\n",
    "            ],\n",
    "        },\n",
    "    ]\n",
    ")"
   ]
  },
  {
   "cell_type": "code",
   "execution_count": 499,
   "metadata": {},
   "outputs": [],
   "source": [
    "t_settling, overshoot, ss_error, max_speed = get_metrics(sol.y[0], sol.y[1])"
   ]
  },
  {
   "cell_type": "code",
   "execution_count": 500,
   "metadata": {},
   "outputs": [
    {
     "name": "stdout",
     "output_type": "stream",
     "text": [
      "Settling time (ms): 97999.65737784599\n",
      "Overshoot (%): 0.0\n",
      "Steady-state error (rad): 0.04759289613183171\n",
      "Max speed (rpm): 35023.600493472186\n"
     ]
    }
   ],
   "source": [
    "print(f\"Settling time (ms): {t_settling / milli}\")\n",
    "print(f\"Overshoot (%): {overshoot}\")\n",
    "print(f\"Steady-state error (rad): {ss_error}\")\n",
    "print(f\"Max speed (rpm): {max_speed / rps}\")"
   ]
  },
  {
   "cell_type": "markdown",
   "metadata": {},
   "source": []
  }
 ],
 "metadata": {
  "interpreter": {
   "hash": "2be5faf79681da6f2a61fdfdd5405d65d042280f7fba6178067603e3a2925119"
  },
  "kernelspec": {
   "display_name": "Python 3.10.0 64-bit",
   "language": "python",
   "name": "python3"
  },
  "language_info": {
   "codemirror_mode": {
    "name": "ipython",
    "version": 3
   },
   "file_extension": ".py",
   "mimetype": "text/x-python",
   "name": "python",
   "nbconvert_exporter": "python",
   "pygments_lexer": "ipython3",
   "version": "3.9.7"
  },
  "orig_nbformat": 4
 },
 "nbformat": 4,
 "nbformat_minor": 2
}
